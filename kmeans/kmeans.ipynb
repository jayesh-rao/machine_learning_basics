{
 "cells": [
  {
   "cell_type": "code",
   "execution_count": 101,
   "metadata": {
    "collapsed": true,
    "scrolled": true
   },
   "outputs": [],
   "source": [
    "import numpy as np\n",
    "import matplotlib.pyplot as plt\n",
    "\n",
    "points = np.loadtxt(\"kmeans.txt\")\n",
    "#points = np.genfromtxt(\"data.csv\", delimiter=\",\")"
   ]
  },
  {
   "cell_type": "code",
   "execution_count": 102,
   "metadata": {
    "collapsed": true
   },
   "outputs": [],
   "source": [
    "# set the plot\n",
    "def plot_points(points):\n",
    "    plt.title('Points from data.csv')\n",
    "    plt.xlabel('house-size')\n",
    "    plt.ylabel('house-price')\n",
    "    plt.grid()\n",
    "    for p in points:\n",
    "        plt.plot(p[0], p[1], 'ro')\n",
    "\n",
    "def plot_line(m, c, points):\n",
    "    ax = plt.gca()\n",
    "    x = points[:,0] #get the x values of the points\n",
    "    y = [m*i + c for i in x]\n",
    "    plt.plot(x, y)\n"
   ]
  },
  {
   "cell_type": "code",
   "execution_count": 103,
   "metadata": {
    "collapsed": true
   },
   "outputs": [],
   "source": [
    "def dist(a, b):\n",
    "    return np.linalg.norm(a-b)"
   ]
  },
  {
   "cell_type": "code",
   "execution_count": 104,
   "metadata": {
    "collapsed": true
   },
   "outputs": [],
   "source": [
    "def init_centroids(points, k):\n",
    "    centroids = []\n",
    "    for i in range(k):\n",
    "        centroids.append(points[np.random.randint(0, len(points))])\n",
    "    return centroids"
   ]
  },
  {
   "cell_type": "code",
   "execution_count": 105,
   "metadata": {
    "collapsed": true
   },
   "outputs": [],
   "source": [
    "def plot_centroids(centroids):\n",
    "    for i in range(len(centroids)):\n",
    "        plt.plot(centroids[i][0], centroids[i][1], 'ro', color=\"black\")"
   ]
  },
  {
   "cell_type": "code",
   "execution_count": 106,
   "metadata": {
    "collapsed": true
   },
   "outputs": [],
   "source": [
    "def mean(a, b):\n",
    "    return np.array(a+b)/2"
   ]
  },
  {
   "cell_type": "code",
   "execution_count": 107,
   "metadata": {
    "collapsed": true
   },
   "outputs": [],
   "source": [
    "def kmeans(points, centroids, k, iters):\n",
    "    # will hold set of points, for each of 'k' clusters\n",
    "    # convergence condition\n",
    "    for it in range(iters):\n",
    "        for p in range(len(points)):\n",
    "            point = points[p]\n",
    "            distance = {} #dictionary, key: cluster, val: euclidean distance\n",
    "            for clus in range(k):\n",
    "                ck = centroids[clus]\n",
    "                distance[clus] = dist(point, ck)\n",
    "            minDist = min(distance, key=distance.get)\n",
    "            centroids[minDist] = mean(point, centroids[minDist])\n",
    "    return centroids"
   ]
  },
  {
   "cell_type": "code",
   "execution_count": 108,
   "metadata": {},
   "outputs": [
    {
     "data": {
      "image/png": "[encoded data removed]",
      "text/plain": [
       "<matplotlib.figure.Figure at 0x108baea90>"
      ]
     },
     "metadata": {},
     "output_type": "display_data"
    }
   ],
   "source": [
    "#before clustering\n",
    "k = 2\n",
    "plot_points(points)\n",
    "plot_line(0, 0, points)\n",
    "centroids = init_centroids(points, k)\n",
    "plot_centroids(centroids)\n",
    "plt.show()"
   ]
  },
  {
   "cell_type": "code",
   "execution_count": 109,
   "metadata": {
    "scrolled": false
   },
   "outputs": [
    {
     "data": {
      "image/png": "[encoded data removed]",
      "text/plain": [
       "<matplotlib.figure.Figure at 0x108f140d0>"
      ]
     },
     "metadata": {},
     "output_type": "display_data"
    }
   ],
   "source": [
    "#after clustering\n",
    "plot_points(points)\n",
    "centroids = kmeans(points, centroids, k, 10)\n",
    "plot_centroids(centroids)\n",
    "plt.show()"
   ]
  },
  {
   "cell_type": "code",
   "execution_count": 110,
   "metadata": {},
   "outputs": [
    {
     "name": "stdout",
     "output_type": "stream",
     "text": [
      "[array([ 1.77937424,  1.5239826 ]), array([ 0.24324424,  0.32928944])]\n"
     ]
    }
   ],
   "source": [
    "print centroids"
   ]
  }
 ],
 "metadata": {
  "kernelspec": {
   "display_name": "Python 2",
   "language": "python",
   "name": "python2"
  },
  "language_info": {
   "codemirror_mode": {
    "name": "ipython",
    "version": 2
   },
   "file_extension": ".py",
   "mimetype": "text/x-python",
   "name": "python",
   "nbconvert_exporter": "python",
   "pygments_lexer": "ipython2",
   "version": "2.7.10"
  }
 },
 "nbformat": 4,
 "nbformat_minor": 2
}
